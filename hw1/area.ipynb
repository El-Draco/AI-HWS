{
 "cells": [
  {
   "cell_type": "markdown",
   "metadata": {},
   "source": [
    "## Homework Assignment [45 points]: \n",
    "### Problem Statement 1 [15 points]:\n",
    "\n",
    "In class, we have studied Depth First Search (DFS). If we apply it to the following problem, we will find the solution:\n",
    "\n",
    "<img src=\"graph.png\" width=800px>\n",
    "\n",
    "```python\n",
    "vertices = ['A', 'B', 'C', 'D', 'E', 'F', 'G', 'H', 'I', 'J']\n",
    "edges = [\n",
    "    ('A', 'B'), ('A', 'C'), ('A', 'D'),\n",
    "    ('B', 'G'), ('C', 'F'), ('D', 'E'), \n",
    "    ('E', 'F'), ('F', 'G'), ('F', 'I'), \n",
    "    ('G', 'H'), ('H', 'I'), ('I', 'J'),\n",
    "    ('E', 'J')]\n",
    "#Get the GraphProblem, and graph_search, node and StackFrontier from: https://github.com/omarnust/AI/blob/main/02-search_graph.ipynb\n",
    "problem = GraphProblem(vertices, edges, 'A', 'H')\n",
    "solution, explored = graph_search(problem)\n",
    "print(solution[1])\n",
    "['A', 'D', 'E', 'J', 'I', 'H', 'G']\n",
    "```\n",
    "The solution is not optimal.\n",
    "\n",
    "In this homework, you explore two additional search algorithms. `Depth Limited Search (DLS)` and `Iterative Deepening Search (IDS) Algorithm`. Both of these algorithms are based on DFS. Please review the document titled `depth limited and iterative deepening.pdf` and implement `DLS` and `IDS`\n",
    "\n",
    "Note: You will have to update the class `Node` to keep track of the depth of the node.\n",
    "\n",
    "Implement `dls_search` an `ids_search` to find the solution\n",
    "\n",
    "```python\n",
    "# This is how the grader will run your code:\n",
    "# [10 pts] Depth Limited Search (DLS)\n",
    "problem = GraphProblem(vertices, edges, 'A', 'H')\n",
    "solution, explored = dls_search(problem, 1)\n",
    "print(solution[1])\n",
    "\n",
    "# [5 pts] Iterative Deepening Search (IDS) Algorithm\n",
    "problem = GraphProblem(vertices, edges, 'A', 'H')\n",
    "solution, explored = ids_search(problem)\n",
    "print(solution[1])\n",
    "```\n"
   ]
  },
  {
   "metadata": {
    "ExecuteTime": {
     "end_time": "2024-09-29T14:38:01.812024Z",
     "start_time": "2024-09-29T14:38:01.805690Z"
    }
   },
   "cell_type": "code",
   "source": [
    "class GraphProblem():\n",
    "    \n",
    "    def __init__(self, vertices, edges, start, goal, heuristic_values=[]):\n",
    "        self.vertices = vertices\n",
    "        self.edges = edges\n",
    "        self.start = start\n",
    "        self.goal = goal\n",
    "        self.heuristic_values = heuristic_values\n",
    "            \n",
    "    def initial_state(self):\n",
    "      return self.start\n",
    "\n",
    "    def goal_test(self, state):\n",
    "      return state == self.goal\n",
    "      \n",
    "    def result(self, state):    \n",
    "        connected_actions = []\n",
    "        for edge in self.edges:\n",
    "            if edge[0] == state:\n",
    "                connected_actions.append((edge[1], edge[1]))  # (action, resulting state)\n",
    "            elif edge[1] == state:\n",
    "                connected_actions.append((edge[0], edge[0]))  # (action, resulting state)\n",
    "        connected_actions.sort()\n",
    "        return connected_actions\n",
    "        \n",
    "    def path_cost(self, state, newstate):\n",
    "        for edge in self.edges:\n",
    "            if (edge[0] == state and edge[1] == newstate) or (edge[1] == state and edge[0] == newstate):\n",
    "                return edge[2]  # Return the cost associated with the edge\n",
    "        return float('inf')  # Return infinity if no edge exists between the states\n",
    "\n",
    "    def heuristic(self, state):\n",
    "        return self.heuristic_values[self.vertices.index(state)]\n",
    "    \n",
    "    "
   ],
   "outputs": [],
   "execution_count": 72
  },
  {
   "metadata": {
    "ExecuteTime": {
     "end_time": "2024-09-29T14:38:03.872564Z",
     "start_time": "2024-09-29T14:38:03.866304Z"
    }
   },
   "cell_type": "code",
   "source": [
    "class Node():\n",
    "    def __init__(self, state, parent, action, gcost=0, hcost=0, depth=0):\n",
    "        self.state = state\n",
    "        self.parent = parent # parent of the current node\n",
    "        self.action = action # action that was taken to reach this node\n",
    "        self.gcost = gcost # cost\n",
    "        self.hcost = hcost # heuristic\n",
    "        self.depth = depth\n",
    "    def __lt__(self, other):\n",
    "        return self.gcost+self.hcost < other.gcost+other.hcost"
   ],
   "outputs": [],
   "execution_count": 73
  },
  {
   "metadata": {
    "ExecuteTime": {
     "end_time": "2024-09-29T14:41:32.266821Z",
     "start_time": "2024-09-29T14:41:32.259101Z"
    }
   },
   "cell_type": "code",
   "source": [
    "def recursive_dls(node, problem, limit, explored):\n",
    "        if problem.goal_test(node.state):\n",
    "            actions = []\n",
    "            cells = []\n",
    "            while node.parent is not None:\n",
    "                actions.append(node.action)\n",
    "                cells.append(node.state)\n",
    "                node = node.parent\n",
    "            actions.append(node.action)\n",
    "            cells.append(node.state)\n",
    "            actions.reverse()\n",
    "            cells.reverse()\n",
    "            return (actions, cells), explored\n",
    "        \n",
    "        elif node.depth == limit:\n",
    "            return None\n",
    "        explored.add(node.state)\n",
    "        \n",
    "        for action, state in problem.result(node.state):\n",
    "            if state not in explored:\n",
    "                child = Node(state=state, parent=node, action=action, gcost=0, hcost=0, depth=node.depth+1)\n",
    "                result = recursive_dls(child, problem, limit, explored)\n",
    "                if result is not None:\n",
    "                    return result\n",
    "        return None"
   ],
   "outputs": [],
   "execution_count": 91
  },
  {
   "metadata": {
    "ExecuteTime": {
     "end_time": "2024-09-29T14:41:32.714549Z",
     "start_time": "2024-09-29T14:41:32.709279Z"
    }
   },
   "cell_type": "code",
   "source": [
    "def dls_search(problem, limit):\n",
    "    # Initialize frontier to just the starting position\n",
    "    start = Node(state=problem.initial_state(), parent=None, action=None, depth=0)\n",
    "    explored = set()\n",
    "    return recursive_dls(start, problem, limit, explored) or (None, explored)"
   ],
   "outputs": [],
   "execution_count": 92
  },
  {
   "metadata": {
    "ExecuteTime": {
     "end_time": "2024-09-29T14:43:33.551902Z",
     "start_time": "2024-09-29T14:43:33.544562Z"
    }
   },
   "cell_type": "code",
   "source": [
    "vertices = ['A', 'B', 'C', 'D', 'E', 'F', 'G', 'H', 'I', 'J']\n",
    "edges = [\n",
    "    ('A', 'B'), ('A', 'C'), ('A', 'D'),\n",
    "    ('B', 'G'), ('C', 'F'), ('D', 'E'), \n",
    "    ('E', 'F'), ('F', 'G'), ('F', 'I'), \n",
    "    ('G', 'H'), ('H', 'I'), ('I', 'J'),\n",
    "    ('E', 'J')]\n",
    "problem = GraphProblem(vertices, edges, 'A', 'H')\n",
    "solution, explored = dls_search(problem, 4)\n",
    "print(solution, explored)"
   ],
   "outputs": [
    {
     "name": "stdout",
     "output_type": "stream",
     "text": [
      "([None, 'B', 'G', 'H'], ['A', 'B', 'G', 'H']) {'F', 'A', 'G', 'B'}\n"
     ]
    }
   ],
   "execution_count": 104
  },
  {
   "metadata": {
    "ExecuteTime": {
     "end_time": "2024-09-29T14:43:01.158700Z",
     "start_time": "2024-09-29T14:43:01.153221Z"
    }
   },
   "cell_type": "code",
   "source": [
    "#Solution 1b\n",
    "def ids_search(problem):\n",
    "    depth = 0\n",
    "    while True:\n",
    "        # Perform DLS with increasing depth limits\n",
    "        solution, explored = dls_search(problem, depth)\n",
    "        if solution is not None:\n",
    "            return solution, explored\n",
    "        depth += 1"
   ],
   "outputs": [],
   "execution_count": 101
  },
  {
   "metadata": {
    "ExecuteTime": {
     "end_time": "2024-09-29T15:14:17.331337Z",
     "start_time": "2024-09-29T15:14:17.326379Z"
    }
   },
   "cell_type": "code",
   "source": [
    "problem = GraphProblem(vertices, edges, 'A', 'H')\n",
    "solution, explored = ids_search(problem)\n",
    "print(solution, explored)  # Print the path (solution)"
   ],
   "outputs": [
    {
     "name": "stdout",
     "output_type": "stream",
     "text": [
      "([None], ['A']) set()\n"
     ]
    }
   ],
   "execution_count": 172
  },
  {
   "cell_type": "markdown",
   "metadata": {},
   "source": [
    "\n",
    "### Problem Statement 2 [20 pts]:\n",
    "You are given a binary matrix grid of size m x n. In this grid, an island is defined as a group of 1's (representing land) that are connected horizontally or vertically. You can assume that the grid is surrounded by water on all four edges.\n",
    "\n",
    "The area of an island is determined by the number of cells with the value 1 that make up the island.\n",
    "\n",
    "Define a class `IslandProblem` that encapsulates the problem. This class should include methods `initial_state`, `set_initial_state` and `result`.\n",
    "\n",
    "Now write a function `search_island` that will return the area of the island.\n",
    "\n",
    "```python\n",
    "# This is how the grader will call you methods\n",
    "grid = [\n",
    "    [1, 1, 0, 0, 0],\n",
    "    [1, 1, 0, 1, 1],\n",
    "    [0, 0, 0, 1, 1],\n",
    "    [0, 1, 1, 1, 0],\n",
    "    [0, 1, 0, 0, 0]]\n",
    "\n",
    "problem = IslandProblem(grid)\n",
    "problem.set_initial_state((0,0))\n",
    "area = search_island(problem) # should output 4\n",
    "problem = IslandProblem(grid)\n",
    "problem.set_initial_state((2,3))\n",
    "area = search_island(problem) # should output 8\n",
    "```\n",
    "You should use the class `Node`, `StackFrontier/QueueFrontier` defined in the next cell. \n",
    "You implementation should work with any input (grid, start_state etc)"
   ]
  },
  {
   "cell_type": "code",
   "metadata": {
    "ExecuteTime": {
     "end_time": "2024-09-29T14:33:41.254999Z",
     "start_time": "2024-09-29T14:33:41.246534Z"
    }
   },
   "source": [
    "class Node():\n",
    "    def __init__(self, state, parent, action):\n",
    "        self.state = state\n",
    "        self.parent = parent # parent of the current node\n",
    "        self.action = action # action that was taken to reach this node\n",
    "\n",
    "# Last in first out frontier\n",
    "class StackFrontier():\n",
    "    def __init__(self):\n",
    "        self.frontier = []\n",
    "\n",
    "    def add(self, node):\n",
    "        self.frontier.append(node)\n",
    "\n",
    "    def contains_state(self, state):\n",
    "        return any(node.state == state for node in self.frontier)\n",
    "\n",
    "    def empty(self):\n",
    "        return len(self.frontier) == 0\n",
    "\n",
    "    def remove(self):\n",
    "        if self.empty():\n",
    "            raise Exception(\"empty frontier\")\n",
    "        else:\n",
    "            node = self.frontier.pop()\n",
    "            return node\n",
    "# First in first out frontier\n",
    "class QueueFrontier(StackFrontier):\n",
    "\n",
    "    def remove(self):\n",
    "        if self.empty():\n",
    "            raise Exception(\"empty frontier\")\n",
    "        else:\n",
    "            node = self.frontier.pop(0)\n",
    "            return node"
   ],
   "outputs": [],
   "execution_count": 57
  },
  {
   "cell_type": "code",
   "metadata": {
    "ExecuteTime": {
     "end_time": "2024-09-29T15:11:33.516080Z",
     "start_time": "2024-09-29T15:11:33.503320Z"
    }
   },
   "source": [
    "# Your solution\n",
    "import copy\n",
    "\n",
    "class IslandProblem:\n",
    "    def __init__(self, grid):\n",
    "        self.height = len(grid)\n",
    "        self.width = max(len(row) for row in grid)\n",
    "        self.grid = copy.deepcopy(grid)\n",
    "        \n",
    "    def initial_state(self):\n",
    "        return self.start\n",
    "    \n",
    "    def set_initial_state(self, state):\n",
    "        self.start = state\n",
    "    \n",
    "    def result(self, state):\n",
    "        row, col = state\n",
    "        candidates = [\n",
    "            (\"up\", (row - 1, col)),\n",
    "            (\"down\", (row + 1, col)),\n",
    "            (\"left\", (row, col - 1)),\n",
    "            (\"right\", (row, col + 1))\n",
    "        ]\n",
    "        result = []\n",
    "        for action, (r, c) in candidates:\n",
    "            if 0 <= r < self.height and 0 <= c < self.width and self.grid[r][c] >=0 :\n",
    "                result.append((action, (r, c)))\n",
    "        return result\n",
    "\n",
    "def search_island(problem: IslandProblem):\n",
    "    start = Node(state=problem.initial_state(), parent=None, action=None)\n",
    "    if problem.grid[start.state[0]][start.state[1]] == 0:\n",
    "        return 0\n",
    "    if (start.state[0] >= problem.height or start.state[1] >= problem.width):\n",
    "        print(\"Initial state out of bounds\")\n",
    "        return 0\n",
    "    frontier = QueueFrontier()\n",
    "    frontier.add(start)\n",
    "    \n",
    "    area = 1\n",
    "    problem.grid[start.state[0]][start.state[1]] = 0 \n",
    "    \n",
    "    explored = set()\n",
    "    while not frontier.empty():\n",
    "        node = frontier.remove()\n",
    "        # Add neighbors to frontier\n",
    "        for action, state in problem.result(node.state):\n",
    "            x, y = state\n",
    "            if not frontier.contains_state(state) and state not in explored and problem.grid[x][y] != 0:\n",
    "                child = Node(state=state, parent=node, action=action)\n",
    "                frontier.add(child)\n",
    "                problem.grid[x][y] = 0\n",
    "                area = area + 1\n",
    "    return area"
   ],
   "outputs": [],
   "execution_count": 152
  },
  {
   "metadata": {
    "ExecuteTime": {
     "end_time": "2024-09-29T15:13:16.050435Z",
     "start_time": "2024-09-29T15:13:16.044086Z"
    }
   },
   "cell_type": "code",
   "source": [
    "grid = [\n",
    "    [1, 1, 0, 0, 0],\n",
    "    [1, 1, 0, 1, 1],\n",
    "    [0, 0, 0, 1, 1],\n",
    "    [0, 1, 1, 1, 0],\n",
    "    [0, 1, 0, 0, 0]]\n",
    "\n",
    "problem = IslandProblem(grid)\n",
    "problem.set_initial_state((0,0))\n",
    "area = search_island(problem) # should output 4\n",
    "print(area)\n",
    "problem = IslandProblem(grid)\n",
    "problem.set_initial_state((2,3))\n",
    "area = search_island(problem) # should output 8\n",
    "print(area)"
   ],
   "outputs": [
    {
     "name": "stdout",
     "output_type": "stream",
     "text": [
      "4\n",
      "8\n"
     ]
    }
   ],
   "execution_count": 168
  },
  {
   "cell_type": "markdown",
   "metadata": {},
   "source": [
    "### Problem Statement 3 [10 pts]:\n",
    "Now write a function `search_max_island` that will use `IslandProblem` and `search_island` that you have define above to return the maximum area of the island in the grid\n",
    "\n",
    "```python\n",
    "# This is how the grader will run your code\n",
    "grid = [[0,0,1,0,0,0,0,1,0,0,0,0,0],\n",
    "        [0,0,0,0,0,0,0,1,1,1,0,0,0],\n",
    "        [0,1,1,0,1,0,0,0,0,0,0,0,0],\n",
    "        [0,1,0,0,1,1,0,0,1,0,1,0,0],\n",
    "        [0,1,0,0,1,1,0,0,1,1,1,0,0],\n",
    "        [0,0,0,0,0,0,0,0,0,0,1,0,0],\n",
    "        [0,0,0,0,0,0,0,1,1,1,0,0,0],\n",
    "        [0,0,0,0,0,0,0,1,1,0,0,0,0]]\n",
    "\n",
    "problem = IslandProblem(grid)\n",
    "max_area = search_max_island(problem) # should output 6\n",
    "```"
   ]
  },
  {
   "cell_type": "code",
   "metadata": {
    "ExecuteTime": {
     "end_time": "2024-09-29T15:13:22.448382Z",
     "start_time": "2024-09-29T15:13:22.439983Z"
    }
   },
   "source": [
    "# Your solution\n",
    "def search_max_island(problem: IslandProblem):\n",
    "    max_area = 0\n",
    "    for row in range(problem.height):\n",
    "        for col in range(problem.width):\n",
    "            if problem.grid[row][col] == 1:\n",
    "                problem.set_initial_state((row,col))\n",
    "                area = search_island(problem)\n",
    "                if (area > max_area):\n",
    "                    max_area = area\n",
    "    return max_area\n",
    "            "
   ],
   "outputs": [],
   "execution_count": 169
  },
  {
   "cell_type": "code",
   "metadata": {
    "ExecuteTime": {
     "end_time": "2024-09-29T15:13:22.730933Z",
     "start_time": "2024-09-29T15:13:22.724512Z"
    }
   },
   "source": [
    "grid = [[0,0,1,0,0,0,0,1,0,0,0,0,0],\n",
    "        [0,0,0,0,0,0,0,1,1,1,0,0,0],\n",
    "        [0,1,1,0,1,0,0,0,0,0,0,0,0],\n",
    "        [0,1,0,0,1,1,0,0,1,0,1,0,0],\n",
    "        [0,1,0,0,1,1,0,0,1,1,1,0,0],\n",
    "        [0,0,0,0,0,0,0,0,0,0,1,0,0],\n",
    "        [0,0,0,0,0,0,0,1,1,1,0,0,0],\n",
    "        [0,0,0,0,0,0,0,1,1,0,0,0,0]]\n",
    "\n",
    "problem = IslandProblem(grid)\n",
    "max_area = search_max_island(problem) # should output 6\n",
    "print(max_area)"
   ],
   "outputs": [
    {
     "name": "stdout",
     "output_type": "stream",
     "text": [
      "6\n"
     ]
    }
   ],
   "execution_count": 170
  }
 ],
 "metadata": {
  "kernelspec": {
   "display_name": "Python 3 (ipykernel)",
   "language": "python",
   "name": "python3"
  },
  "language_info": {
   "codemirror_mode": {
    "name": "ipython",
    "version": 3
   },
   "file_extension": ".py",
   "mimetype": "text/x-python",
   "name": "python",
   "nbconvert_exporter": "python",
   "pygments_lexer": "ipython3",
   "version": "3.10.10"
  }
 },
 "nbformat": 4,
 "nbformat_minor": 4
}
